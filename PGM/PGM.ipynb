{
 "cells": [
  {
   "cell_type": "markdown",
   "metadata": {},
   "source": [
    "#  概率图模型\n",
    "## 1 基本概念\n",
    "\n",
    "概率图是一类用图的形式表示随机变量之间条件依赖关系的概率模型， 是概率论与图论的结合。图中的节点表示随机变量，缺少边表示条件独立假设。根据图中边的有向、无向性，模型可分为两类：有向图、无向图。\n",
    "\n",
    "G(V,E)：变量关系图\n",
    "\n",
    "V：顶点（节点），表示随机变量\n",
    "\n",
    "E：边or弧\n",
    "\n",
    "两个节点邻接：两个节点之间存在边，记为$X_i\\sim X_j$ ，不存在边，表示条件独立。\n",
    "\n",
    "路径：若对每个$i$，都有$X_{i-1}\\sim X_i$ ，则称序列$（X_1, X_2 ... X_N ）$是一条路径。"
   ]
  },
  {
   "cell_type": "markdown",
   "metadata": {},
   "source": [
    "## 2 几种常见的概率图模型\n",
    "\n",
    "* 朴素贝叶斯分类器（NBs：Naive Bayes）\n",
    "* 最大熵模型（MEM：Maximum Entropy Model）\n",
    "* 隐马尔可夫模型（HMM：Hidden Markov Models）\n",
    "* 最大熵马尔可夫模型（MEMM：Maximum Entropy Markov Model）\n",
    "* 马尔可夫随机场（MRF：Markov Random Fields）\n",
    "* 条件随机场（CRF：Conditional Random Fields）"
   ]
  },
  {
   "cell_type": "markdown",
   "metadata": {},
   "source": [
    "### 朴素贝叶斯分类器(NBs)\n",
    "#### 贝叶斯定理\n",
    "在之前的实验中我们已经接触过简单的贝叶斯分类器了，现在再回顾一次：\n",
    "$$ P(y_i | x) = \\frac{P(x|y_i)P(y_i)}{P(x)}$$\n",
    "一般来说，$x$已给出，$P(x)$也是一个定值（虽然不知道准确的数据，但因为是恒值，可以忽略），只需关注分子$P(x|y_i)P(y_i)$。$P(y_i)$是类别$y_i$的先验概率，$P(x|y_i)$是$x$对类别$y_i$的条件概率。\n",
    "贝叶斯定理说明了可以用先验概率$P(y_i)$来估算后验概率$P(x|y_i)$。\n",
    "\n",
    "#### 贝叶斯分类器\n",
    "设$x∈Ω$是一个类别未知的数据样本，$Y$为类别集合，若数据样本$x$属于一个特定的类别，那么分类问题就是决定$P(y_i|x)$，即在获得数据样本$x$时，确定$x$的最佳分类。所谓最佳分类，一种办法是把它定义为在给定数据集中不同类别$y_i$先验概率的条件下最可能的分类。贝叶斯理论提供了计算这种可能性的一种直接方法。\n",
    "\n",
    "举一个简单的例子:\n",
    "\n",
    "$y_i$ 是一个包含了整数的数据集合$y_i=(1,1,1,2,2,5,...,86)$,每个$y_i$中的数据数量不一定相同，一共有$N$个这样的$y_i$数据集合，最终组成了一个拥有整数集合的数组。把这个数组当成已经划分好的不同类别。现在给出一个整数，比如1，问这个1属于哪一个集合或者说由某个类别yi产生该整数的可能性是多少？\n",
    "    \n",
    "利用以上的贝叶斯定理可知，给定整数1的条件下，问属于$y_i$类别，就等同于求解先验概率$P(y_i)$与$P(x|y_i)$的概率乘积大小。$P(y_i)$表示类别$y_i$的分布概率，在这里可以简单地定义为$\\frac{每个类别{y_i}的数据量}{总数据量}$（这种定义是有意义的，某个类别包含数据量越大，那么产生这个数据的可能性就越大）。另外，除了这个先验概率$P(y_i)$之外，还要考虑条件概率$P(x|y_i)$。在这个例子中，不同的$y_i$类别可能都包含了1这个整数，但是每个类别中1出现的概率不一样。所以，最后\n",
    "$$1属于y_i类别的概率 = 类别y_i发生的概率 * 1在类别yi中的出现概率$$\n",
    "\n",
    "#### 贝叶斯网络(Bayesian Network)\n",
    "贝叶斯网络是最基本的有向图，是类条件概率的建模方法。贝叶斯网络包括两部分：网络拓扑图和概率表。贝叶斯拓扑图的有向边指定了样本之间的关联。\n",
    "\n",
    "![fig1](./Img/fig1.png)\n",
    "\n",
    "每个节点的条件概率分布表示为：$$P(当前节点|它的父节点)$$\n",
    "\n",
    "联合分布为：\n",
    "$$P(X_1,X_2,...,X_N)=\\prod_{i=1}^N p(X_i | \\pi(X_i))$$\n",
    "\n",
    "> 举例\n",
    "![fig2](./Img/fig2.png)\n",
    "联合分布为： \n",
    "$$P(X_1,X_2,...,X_5)=  p(X_1)p(X_2 | X_1)p(X_3 | X_2) p(X_4 | X_2) p(X_5 | X_3 X_4)$$"
   ]
  },
  {
   "cell_type": "markdown",
   "metadata": {},
   "source": [
    "###  最大熵分类器(MEM)\n",
    "\n",
    "最大熵模型主要是在已有的一些限制条件下估计未知的概率分布。最大熵的原理认为，从不完整的信息（例如有限数量的训练数据）推导出的唯一合理的概率分布应该在满足这些信息提供的约束条件下拥有最大熵值。求解这样的分布是一个典型的约束优化问题。\n",
    "![fig3](./Img/fig3.png)\n",
    "最大熵最后的模型公式——指数形式为：\n",
    "$$p_\\lambda^* (y|x) = \\frac{1}{z_\\lambda (x)} exp(\\sum_\\alpha \\lambda_\\alpha f_\\alpha(x , y))$$\n",
    "\n",
    "其中$z_\\lambda (x)$是归一化因子， 最大熵模型公式中的$\\lambda_\\alpha$表示特征函数的权重，$ f_\\alpha$可由训练样本估计得到，大的非负数值表示了优先选择的特征，大的负值对应不太可能发生的特征。"
   ]
  },
  {
   "cell_type": "markdown",
   "metadata": {},
   "source": [
    "###  隐马尔可夫模型（HMM）\n",
    "\n",
    "状态集合$Y$，观察值集合$X$，两个状态转移概率：从$y_{i-1}$到$y_i$的条件概率分布$P(y_i | y_{i-1})$，状态$y_i$的输出观察值概率$P(x_i | y_{i-1})$，初始概率$P_0(y)$。\n",
    "![fig4](./Img/fig4.png)\n",
    "状态序列和观察序列的联合概率:\n",
    "$$P(\\overrightarrow{y},\\overrightarrow{x})=\\prod_{i=1}^n p(y_i | y_{i-1})p(x_i | y_i)$$"
   ]
  },
  {
   "cell_type": "markdown",
   "metadata": {},
   "source": [
    "###  最大熵马尔可夫模型（MEMM）\n",
    "用一个分布$P(y_i | y_{i-1},x_i)$来替代HMM中的两个条件概率分布，它表示从先前状态$y_{i-1}$，在观察值$x_i$下得到当前状态的概率，即根据前一状态和当前观察预测当前状态。每个这样的分布函数都是一个服从最大熵的指数模型。\n",
    "\n",
    "![fig5](./Img/fig5.png)\n",
    "状态$y_i$ 的条件概率公式（每个$i$ 的状态输出都服从最大熵的指数模型）\n",
    "$$p_{y_{i-1}} (y_i|x_i) = \\frac{1}{z(x_i,y_{i-1})} exp(\\sum_\\alpha \\lambda_\\alpha f_\\alpha(x_i , y_i))\\ \\ \\ i = 1,2,...,T$$"
   ]
  },
  {
   "cell_type": "markdown",
   "metadata": {},
   "source": [
    "###  马尔可夫随机场（MRF）\n",
    "\n",
    "随机场可以看成是一组随机变量$(y_1, y_2, …, y_n)$的集合（这组随机变量对应同一个样本空间）。当然，这些随机变量之间可能有依赖关系，一般来说，也只有当这些变量之间有依赖关系的时候，我们将其单独拿出来看成一个随机场才有实际意义。\n",
    "\n",
    "马尔可夫随机场是加了马尔可夫性限制的随机场，一个Markov随机场对应一个无向图。定义无向图G=(V,E)，V为顶点/节点, E为边，每一个节点对应一个随机变量，节点之间的边表示节点对应的随机变量之间有概率依赖关系。\n",
    "\n",
    "**马尔可夫性**：\n",
    "\n",
    "对Markov随机场中的任何一个随机变量，给定场中其他所有变量下该变量的分布，等同于给定场中该变量的邻居节点下该变量的分布。即：\n",
    "$$P(y_i|y_{G/i})=P(y_i|N(y_i))$$\n",
    "\n",
    "其中$N(y_i)$表示与$y_i$有边相连的节点。\n",
    "\n",
    "Markov随机场的结构本质上反应了我们的先验知识——哪些变量之间有依赖关系需要考虑，而哪些可以忽略。\n",
    "\n",
    "马尔可夫性可以看成是马尔科夫随机场的微观属性，而宏观属性就是联合分布。假设MRF的变量集合为$Y=\\{ y_1, y_2,…, y_n \\}$, $C_G$有是所有团$Y_c$的集合。\n",
    "$$P(y_1, y_2, ..., y_n)=\\frac{1}{Z}exp\\{-\\frac{1}{T}U\\{y_1, y_2, ... , y_n\\}\\}$$\n",
    "\n",
    "在MRF对应的图中，每一个团(clique)对应一个函数，称为团势(clique-potential)。这个联合概率形式又叫做Gibbs分布(Gibbs distribution)。\n",
    "\n",
    "Hammersley-Clifford定理给出了Gibbs分布与MRF等价的条件：一个随机场是关于邻域系统的MRF，当且仅当这个随机场是关于邻域系统的Gibbs分布。关于邻域系\n",
    "统$δ(s)$的MRFX与Gibbs分布等价形式表示为\n",
    "\n",
    "$$P(y_s|y_r, r\\in δ(s))=\\frac{1}{Z}exp(-\\frac{1}{T}\\sum_{C \\in C_G}V_c (y_s|y_r))$$\n",
    "\n",
    "在图像处理中，对先验模型的研究往往转换为对能量函数的研究。$C$表示邻域系统$δ$ 所包含基团的集合，$V_c (·)$是定义在基团$c$上的势函数(potential)，它只依赖于$δ(s)，s∈c$的值。$δ={δ(s)|s∈S}$是定义在S上的通用的邻域系统的集合。\n",
    "\n",
    "上式解决了求MRF中概率分布的难题，使对MRF的研究转化为对势函数Vc(x)的研究，使Gibbs分布与能量函数建立了等价关系，是研究邻域系统 $δ(s)$ MRF的一个重要里程碑。"
   ]
  },
  {
   "cell_type": "markdown",
   "metadata": {},
   "source": [
    "###   条件随机场（CRF）\n",
    "如果给定的MRF中每个随机变量下面还有观察值，我们要确定的是给定观察集合下MRF的分布，也就是条件分布，那么这个MRF就称为CRF(Conditional Random Field)。它的条件分布形式完全类似于MRF的分布形式，只不过多了一个观察集合$X=(x_1, x_2,…, x_n)$，即条件随机场可以看成是一个无向图模型或马尔可夫随机场，它是一种用来标记和切分序列化数据的统计模型。\n",
    "\n",
    "理论上，图G的结构可以任意，但实际上，在构造模型时，CRFs采用了最简单和最重要的一阶链式结构。\n",
    "\n",
    "一阶链式CRF示意图（不同于隐马尔科夫链，条件随机场中的$x_i$ 除了依赖于当前状态，还可能与其他状态有关）\n",
    "![figx](./Img/figx.jpg)"
   ]
  },
  {
   "cell_type": "markdown",
   "metadata": {},
   "source": [
    "## 3 几种概率图模型的比较\n",
    "### 3.1 条件随机场和隐马尔科夫链的关系和比较\n",
    "\n",
    "条件随机场是隐马尔科夫链的一种扩展。\n",
    "\n",
    "不同点：观察值$x_i$不单纯地依赖于当前状态$y_i$，可能还与前后状态有关；\n",
    "\n",
    "相同点：条件随机场保留了状态序列的马尔科夫链属性——状态序列中的某一个状态只与之前的状态有关，而与其他状态无关。（比如句法分析中的句子成分）\n",
    "\n",
    "### 3.2 MRF和CRF的关系和比较\n",
    "\n",
    "条件随机场和马尔科夫随机场很相似，但有所不同，很容易混淆。最通用角度来看，CRF本质上是给定了观察值 (observations)集合的MRF。\n",
    "    \n",
    "在图像处理中，MRF的密度概率 p(x=labels, y=image) 是一些随机变量定义在团上的函数因子分解。而CRF是根据特征产生的一个特殊MRF。因此一个MRF是由图和参数（可以无数个）定义的，如果这些参数是输入图像的一个函数（比如特征函数），则我们就拥有了一个CRF。\n",
    "\n",
    "图像去噪处理中，P(去噪像素|所有像素)是一个CRF，而P(所有像素)是一个MRF。[1]"
   ]
  },
  {
   "cell_type": "markdown",
   "metadata": {},
   "source": [
    "## 4 代码实现\n",
    "在Python库中，pgmpy实现了基本的概率图模型，大家可以在自己的终端执行下面的代码，完成pgmpy的安装\n",
    "```\n",
    "pip install pgmpy\n",
    "\n",
    "```\n",
    "这里我们将通过对下图所示的贝叶斯网络进行实现，说明pgmpy的用法。\n",
    "<img src=\"./Img/fig6.png\" width = \"300\" height = \"200\" alt=\"cancer\" align=center />\n",
    "在上图所示的Bayes网络中，最上层表示导致癌症的因素污染和吸烟，中间层为癌症结点，最下层为癌症患者的可能发生的情况，分别是接受X光治疗和呼吸困难，下面利用pgmpy库实现上述贝叶斯网络，首先导入相应的模块："
   ]
  },
  {
   "cell_type": "code",
   "execution_count": 11,
   "metadata": {},
   "outputs": [],
   "source": [
    "from pgmpy.models import BayesianModel\n",
    "from pgmpy.factors.discrete import TabularCPD"
   ]
  },
  {
   "cell_type": "markdown",
   "metadata": {},
   "source": [
    "接下来定义相关参数："
   ]
  },
  {
   "cell_type": "code",
   "execution_count": 12,
   "metadata": {},
   "outputs": [],
   "source": [
    "# 利用ByesianModel函数定义网络图\n",
    "# 中括号内为整个图，小括号内前一项代表有向连接的起点，后一项代表终点\n",
    "\n",
    "cancer_model = BayesianModel([('Pollution', 'Cancer'), \n",
    "                              ('Smoker', 'Cancer'),\n",
    "                              ('Cancer', 'Xray'),\n",
    "                              ('Cancer', 'Dyspnoea')])\n",
    "\n",
    "# 利用TabularCPD函数赋予结点具体的概率参数\n",
    "# cariable：参数名\n",
    "# variable_card：该结点可能出现的结果数目\n",
    "# values：概率值\n",
    "cpd_poll = TabularCPD(variable='Pollution', variable_card=2,\n",
    "                      values=[[0.9], [0.1]])\n",
    "cpd_smoke = TabularCPD(variable='Smoker', variable_card=2,\n",
    "                       values=[[0.3], [0.7]])\n",
    "\n",
    "# evidence:可以理解为条件概率中的条件\n",
    "cpd_cancer = TabularCPD(variable='Cancer', variable_card=2,\n",
    "                        values=[[0.03, 0.05, 0.001, 0.02],\n",
    "                                [0.97, 0.95, 0.999, 0.98]],\n",
    "                        evidence=['Smoker', 'Pollution'],\n",
    "                        evidence_card=[2, 2])\n",
    "cpd_xray = TabularCPD(variable='Xray', variable_card=2,\n",
    "                      values=[[0.9, 0.2], [0.1, 0.8]],\n",
    "                      evidence=['Cancer'], evidence_card=[2])\n",
    "cpd_dysp = TabularCPD(variable='Dyspnoea', variable_card=2,\n",
    "                      values=[[0.65, 0.3], [0.35, 0.7]],\n",
    "                      evidence=['Cancer'], evidence_card=[2])"
   ]
  },
  {
   "cell_type": "markdown",
   "metadata": {},
   "source": [
    "这里的TabularCPD其实代表着条件概率分布表(Conditional Probability Distribution Table, CPDTable),我们可以看上述代码的cpd_cancer这个表，其实际的CPD表格为:\n",
    "\n",
    "Smoker  | Smoker_0  | Smoker_0   | Smoker_1 | Smoker_1\n",
    "- | :-: | -:| -:\n",
    "Pollution  | Pollution_0  | Pollution_0   | Pollution_1 | Pollution_1\n",
    "Cancer_0 |  0.03        | 0.05        | 0.001       | 0.02        \n",
    "Cancer_1  | 0.97        | 0.95        | 0.999       | 0.98    \n",
    "\n",
    "以0.98所在的单元格为例，Smoker_1代表吸烟，Pullution_1代表有污染，Cancer_1代表患癌症，即在吸烟且环境有污染的情况下，患癌症概率为0.98。其他单元格阅读方式相同。这样，在知道任意情况的条件概率分布表的情况下，就能建立对应结点的参数。"
   ]
  },
  {
   "cell_type": "code",
   "execution_count": 13,
   "metadata": {},
   "outputs": [
    {
     "data": {
      "text/plain": [
       "True"
      ]
     },
     "execution_count": 13,
     "metadata": {},
     "output_type": "execute_result"
    }
   ],
   "source": [
    "# 利用add_cpds函数将参数与图连接起来\n",
    "cancer_model.add_cpds(cpd_poll, cpd_smoke, cpd_cancer, cpd_xray, cpd_dysp)\n",
    "\n",
    "# 检查模型是否合理，True代表合理\n",
    "cancer_model.check_model()"
   ]
  },
  {
   "cell_type": "code",
   "execution_count": 14,
   "metadata": {},
   "outputs": [
    {
     "data": {
      "text/plain": [
       "False"
      ]
     },
     "execution_count": 14,
     "metadata": {},
     "output_type": "execute_result"
    }
   ],
   "source": [
    "# is_active_trail函数检验两个结点之间是否有有向连接\n",
    "cancer_model.is_active_trail('Pollution', 'Smoker')"
   ]
  },
  {
   "cell_type": "code",
   "execution_count": 15,
   "metadata": {},
   "outputs": [
    {
     "data": {
      "text/plain": [
       "True"
      ]
     },
     "execution_count": 15,
     "metadata": {},
     "output_type": "execute_result"
    }
   ],
   "source": [
    "# 在is_active_trail函数中，设置observed参数，表示两个结点能否通过observed结点实现连接\n",
    "cancer_model.is_active_trail('Pollution', 'Smoker', observed=['Cancer'])"
   ]
  },
  {
   "cell_type": "markdown",
   "metadata": {},
   "source": [
    "# 5 实验练习\n",
    "下面我们将利用一个更为复杂的Bayes网络，通过Pgmpy模块实现计算。网络图如下图：\n",
    "<img src=\"./Img/fig7.png\" width = \"500\" height = \"300\" alt=\"Aisa\" align=center />"
   ]
  },
  {
   "cell_type": "markdown",
   "metadata": {},
   "source": [
    "首先导入相应的模块和数据集：\n",
    ">**注意:**pgmpy模块中，PGM图可以通过bif格式进行存储和阅读，这里已经将上述PGM以asia.bif储存好。"
   ]
  },
  {
   "cell_type": "code",
   "execution_count": 16,
   "metadata": {},
   "outputs": [
    {
     "data": {
      "text/plain": [
       "['asia', 'tub', 'smoke', 'lung', 'bronc', 'either', 'xray', 'dysp']"
      ]
     },
     "execution_count": 16,
     "metadata": {},
     "output_type": "execute_result"
    }
   ],
   "source": [
    "from pgmpy.readwrite import BIFReader\n",
    "from pgmpy.inference import VariableElimination\n",
    "reader = BIFReader('./Img/asia.bif')\n",
    "asia_model = reader.get_model()\n",
    "# 通过nodes函数可以查看模型中有哪些结点\n",
    "asia_model.nodes()"
   ]
  },
  {
   "cell_type": "markdown",
   "metadata": {},
   "source": [
    ">**练习1：**在下面的单元格中，实现判断，判断tub结点和either结点之间是否存在有向连接"
   ]
  },
  {
   "cell_type": "code",
   "execution_count": 17,
   "metadata": {},
   "outputs": [
    {
     "data": {
      "text/plain": [
       "True"
      ]
     },
     "execution_count": 17,
     "metadata": {},
     "output_type": "execute_result"
    }
   ],
   "source": [
    "asia_model.is_active_trail('either', 'tub')"
   ]
  },
  {
   "cell_type": "markdown",
   "metadata": {},
   "source": [
    ">**练习2：**在下面的单元格中，实现判断，判断tub结点和dysp结点之间能否通过either结点有向连接"
   ]
  },
  {
   "cell_type": "code",
   "execution_count": 18,
   "metadata": {},
   "outputs": [
    {
     "data": {
      "text/plain": [
       "True"
      ]
     },
     "execution_count": 18,
     "metadata": {},
     "output_type": "execute_result"
    }
   ],
   "source": [
    "asia_model.is_active_trail('tub', 'dysp', observed=['either'])"
   ]
  },
  {
   "cell_type": "markdown",
   "metadata": {},
   "source": [
    "通过调用pgmpy的inference模块中的VariableElimination，我们可以实现查询条件概率表的功能"
   ]
  },
  {
   "cell_type": "code",
   "execution_count": 19,
   "metadata": {
    "scrolled": true
   },
   "outputs": [
    {
     "name": "stdout",
     "output_type": "stream",
     "text": [
      "╒═════════╤══════════════╕\n",
      "│ bronc   │   phi(bronc) │\n",
      "╞═════════╪══════════════╡\n",
      "│ bronc_0 │       0.6000 │\n",
      "├─────────┼──────────────┤\n",
      "│ bronc_1 │       0.4000 │\n",
      "╘═════════╧══════════════╛\n"
     ]
    }
   ],
   "source": [
    "asia_infer = VariableElimination(asia_model)\n",
    "# 给出当smoke为0时，bronc的概率分布情况\n",
    "q = asia_infer.query(variables=['bronc'], evidence={'smoke': 0})\n",
    "print(q['bronc'])"
   ]
  },
  {
   "cell_type": "markdown",
   "metadata": {},
   "source": [
    ">**练习3：**在下面的单元格中，实现查询，当either为1时，xray的概率分布情况"
   ]
  },
  {
   "cell_type": "code",
   "execution_count": 20,
   "metadata": {},
   "outputs": [
    {
     "name": "stdout",
     "output_type": "stream",
     "text": [
      "╒════════╤═════════════╕\n",
      "│ xray   │   phi(xray) │\n",
      "╞════════╪═════════════╡\n",
      "│ xray_0 │      0.0500 │\n",
      "├────────┼─────────────┤\n",
      "│ xray_1 │      0.9500 │\n",
      "╘════════╧═════════════╛\n"
     ]
    }
   ],
   "source": [
    "q = asia_infer.query(variables=['xray'], evidence={'either': 1})\n",
    "print(q['xray'])"
   ]
  },
  {
   "cell_type": "markdown",
   "metadata": {
    "collapsed": true
   },
   "source": [
    "# 引用和参考资料列表\n",
    "1. [@概率图几种模型的简介和比较](http://blog.sina.com.cn/s/blog_60a0e97e0101no03.html)\n",
    "2. [@技术博客](http://blog.csdn.net/pipisorry/article/details/51461878)"
   ]
  }
 ],
 "metadata": {
  "kernelspec": {
   "display_name": "Python 3",
   "language": "python",
   "name": "python3"
  },
  "language_info": {
   "codemirror_mode": {
    "name": "ipython",
    "version": 3
   },
   "file_extension": ".py",
   "mimetype": "text/x-python",
   "name": "python",
   "nbconvert_exporter": "python",
   "pygments_lexer": "ipython3",
   "version": "3.6.6"
  }
 },
 "nbformat": 4,
 "nbformat_minor": 1
}
